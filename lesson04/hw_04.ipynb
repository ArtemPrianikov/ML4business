{
 "cells": [
  {
   "cell_type": "markdown",
   "metadata": {},
   "source": [
    "# ДЗ 04. ML для бизнеса\n",
    "\n",
    "1. Прочитайте базу my_PJME_MW.csv и сделайте ее перерасчет (ресемплинг) в представление по неделям.\n",
    "\n",
    "2. Постройте модель предсказания 4-й точки от текущей (h = 4), используя результаты автокорреляционного анализа из предшествующих уроков .\n",
    "\n",
    "3. Постройте модель предсказания 1-й точки от текущей (h = 1), используя результаты автокорреляционного анализа из предшествующих уроков.\n",
    "\n",
    "4. Примените авторекурсию и сравните результат в 4-й точке путем прямого моделирования и путем рекурсивного моделирования на длине выборки из 4-х точек.\n",
    "\n",
    "5. Оцените рост ошибки прогнозирования рекурсивной модели в интервалах от 1-й до 10-й, от 10-й до 20-й, от 20-й до 30-й, .. .10*i-й до (i+1)*10 -й,... ,от 90 до 100-й точках (используйте осреднение по десяткам точек)\n",
    "\n",
    "6. Сделайте вывод о том, как изменилось поведение ошибки предсказания ряда."
   ]
  },
  {
   "cell_type": "code",
   "execution_count": 1,
   "metadata": {},
   "outputs": [
    {
     "name": "stderr",
     "output_type": "stream",
     "text": [
      "/Users/artem/opt/anaconda3/lib/python3.7/site-packages/statsmodels/tools/_testing.py:19: FutureWarning: pandas.util.testing is deprecated. Use the functions in the public API at pandas.testing instead.\n",
      "  import pandas.util.testing as tm\n"
     ]
    }
   ],
   "source": [
    "%matplotlib inline\n",
    "import matplotlib.pyplot as plt\n",
    "\n",
    "import numpy as np\n",
    "import pandas as pd \n",
    "import seaborn as sns\n",
    "\n",
    "from sklearn.preprocessing import StandardScaler\n",
    "from sklearn.metrics import mean_squared_error\n",
    "import os"
   ]
  },
  {
   "cell_type": "markdown",
   "metadata": {},
   "source": [
    "## Задание 1\n",
    "\n",
    "Прочитайте базу my_PJME_MW.csv и сделайте ее перерасчет (ресемплинг) в представление по неделям."
   ]
  },
  {
   "cell_type": "code",
   "execution_count": 2,
   "metadata": {},
   "outputs": [
    {
     "data": {
      "text/plain": [
       "'/Users/artem/Movies/ML_buisness_course/hw/lesson04'"
      ]
     },
     "execution_count": 2,
     "metadata": {},
     "output_type": "execute_result"
    }
   ],
   "source": [
    "pwd"
   ]
  },
  {
   "cell_type": "code",
   "execution_count": 3,
   "metadata": {},
   "outputs": [],
   "source": [
    "df = pd.read_csv('../../lesson4/my_PJME_MW.csv', index_col = [0], parse_dates = [0])#/Users/artem/Movies/ML_buisness_course/lesson4/my_PJME_MW.csv"
   ]
  },
  {
   "cell_type": "markdown",
   "metadata": {},
   "source": [
    "Делаем ресемплинг и подчищаем датасет (удаляём столбец с часом, NaN-строки)"
   ]
  },
  {
   "cell_type": "code",
   "execution_count": 4,
   "metadata": {},
   "outputs": [
    {
     "data": {
      "text/html": [
       "<div>\n",
       "<style scoped>\n",
       "    .dataframe tbody tr th:only-of-type {\n",
       "        vertical-align: middle;\n",
       "    }\n",
       "\n",
       "    .dataframe tbody tr th {\n",
       "        vertical-align: top;\n",
       "    }\n",
       "\n",
       "    .dataframe thead th {\n",
       "        text-align: right;\n",
       "    }\n",
       "</style>\n",
       "<table border=\"1\" class=\"dataframe\">\n",
       "  <thead>\n",
       "    <tr style=\"text-align: right;\">\n",
       "      <th></th>\n",
       "      <th>PJME_MW</th>\n",
       "      <th>year</th>\n",
       "      <th>month</th>\n",
       "      <th>dayofmonth</th>\n",
       "      <th>quarter</th>\n",
       "      <th>dayofyear</th>\n",
       "      <th>weekofyear</th>\n",
       "      <th>dayofweek</th>\n",
       "      <th>is_holiday</th>\n",
       "      <th>is_prev_holiday</th>\n",
       "      <th>is_next_holiday</th>\n",
       "    </tr>\n",
       "    <tr>\n",
       "      <th>Date</th>\n",
       "      <th></th>\n",
       "      <th></th>\n",
       "      <th></th>\n",
       "      <th></th>\n",
       "      <th></th>\n",
       "      <th></th>\n",
       "      <th></th>\n",
       "      <th></th>\n",
       "      <th></th>\n",
       "      <th></th>\n",
       "      <th></th>\n",
       "    </tr>\n",
       "  </thead>\n",
       "  <tbody>\n",
       "    <tr>\n",
       "      <th>2002-01-06</th>\n",
       "      <td>32392.160839</td>\n",
       "      <td>2002.0</td>\n",
       "      <td>1.000000</td>\n",
       "      <td>3.517483</td>\n",
       "      <td>1.0</td>\n",
       "      <td>3.517483</td>\n",
       "      <td>1.0</td>\n",
       "      <td>3.517483</td>\n",
       "      <td>0.160839</td>\n",
       "      <td>0.000000</td>\n",
       "      <td>0.167832</td>\n",
       "    </tr>\n",
       "    <tr>\n",
       "      <th>2002-01-13</th>\n",
       "      <td>31487.386905</td>\n",
       "      <td>2002.0</td>\n",
       "      <td>1.000000</td>\n",
       "      <td>10.000000</td>\n",
       "      <td>1.0</td>\n",
       "      <td>10.000000</td>\n",
       "      <td>2.0</td>\n",
       "      <td>3.000000</td>\n",
       "      <td>0.000000</td>\n",
       "      <td>0.000000</td>\n",
       "      <td>0.000000</td>\n",
       "    </tr>\n",
       "    <tr>\n",
       "      <th>2002-01-20</th>\n",
       "      <td>31452.880952</td>\n",
       "      <td>2002.0</td>\n",
       "      <td>1.000000</td>\n",
       "      <td>17.000000</td>\n",
       "      <td>1.0</td>\n",
       "      <td>17.000000</td>\n",
       "      <td>3.0</td>\n",
       "      <td>3.000000</td>\n",
       "      <td>0.000000</td>\n",
       "      <td>0.142857</td>\n",
       "      <td>0.000000</td>\n",
       "    </tr>\n",
       "    <tr>\n",
       "      <th>2002-01-27</th>\n",
       "      <td>30141.529762</td>\n",
       "      <td>2002.0</td>\n",
       "      <td>1.000000</td>\n",
       "      <td>24.000000</td>\n",
       "      <td>1.0</td>\n",
       "      <td>24.000000</td>\n",
       "      <td>4.0</td>\n",
       "      <td>3.000000</td>\n",
       "      <td>0.142857</td>\n",
       "      <td>0.000000</td>\n",
       "      <td>0.142857</td>\n",
       "    </tr>\n",
       "    <tr>\n",
       "      <th>2002-02-03</th>\n",
       "      <td>29196.488095</td>\n",
       "      <td>2002.0</td>\n",
       "      <td>1.428571</td>\n",
       "      <td>17.714286</td>\n",
       "      <td>1.0</td>\n",
       "      <td>31.000000</td>\n",
       "      <td>5.0</td>\n",
       "      <td>3.000000</td>\n",
       "      <td>0.000000</td>\n",
       "      <td>0.000000</td>\n",
       "      <td>0.000000</td>\n",
       "    </tr>\n",
       "  </tbody>\n",
       "</table>\n",
       "</div>"
      ],
      "text/plain": [
       "                 PJME_MW    year     month  dayofmonth  quarter  dayofyear  \\\n",
       "Date                                                                         \n",
       "2002-01-06  32392.160839  2002.0  1.000000    3.517483      1.0   3.517483   \n",
       "2002-01-13  31487.386905  2002.0  1.000000   10.000000      1.0  10.000000   \n",
       "2002-01-20  31452.880952  2002.0  1.000000   17.000000      1.0  17.000000   \n",
       "2002-01-27  30141.529762  2002.0  1.000000   24.000000      1.0  24.000000   \n",
       "2002-02-03  29196.488095  2002.0  1.428571   17.714286      1.0  31.000000   \n",
       "\n",
       "            weekofyear  dayofweek  is_holiday  is_prev_holiday  \\\n",
       "Date                                                             \n",
       "2002-01-06         1.0   3.517483    0.160839         0.000000   \n",
       "2002-01-13         2.0   3.000000    0.000000         0.000000   \n",
       "2002-01-20         3.0   3.000000    0.000000         0.142857   \n",
       "2002-01-27         4.0   3.000000    0.142857         0.000000   \n",
       "2002-02-03         5.0   3.000000    0.000000         0.000000   \n",
       "\n",
       "            is_next_holiday  \n",
       "Date                         \n",
       "2002-01-06         0.167832  \n",
       "2002-01-13         0.000000  \n",
       "2002-01-20         0.000000  \n",
       "2002-01-27         0.142857  \n",
       "2002-02-03         0.000000  "
      ]
     },
     "execution_count": 4,
     "metadata": {},
     "output_type": "execute_result"
    }
   ],
   "source": [
    "df_week = df.copy()\n",
    "df_week = df_week.resample('W').mean()\n",
    "df_week.dropna()\n",
    "df_week = df_week.drop(columns=['hour'])\n",
    "df_week.head()"
   ]
  },
  {
   "cell_type": "markdown",
   "metadata": {},
   "source": [
    "Выводим на график:"
   ]
  },
  {
   "cell_type": "code",
   "execution_count": 5,
   "metadata": {},
   "outputs": [
    {
     "data": {
      "image/png": "[encoded data removed]",
      "text/plain": [
       "<Figure size 1440x288 with 1 Axes>"
      ]
     },
     "metadata": {
      "needs_background": "light"
     },
     "output_type": "display_data"
    }
   ],
   "source": [
    "plt.figure(figsize =(20,4))\n",
    "plt.plot( df_week.index, df_week['PJME_MW'], 'b' )\n",
    "plt.title('PJM East потребление энергии' )\n",
    "plt.ylabel ( 'МВт' )\n",
    "plt.show()"
   ]
  },
  {
   "cell_type": "markdown",
   "metadata": {},
   "source": [
    "## Задание 2\n",
    "\n",
    "Постройте модель предсказания 4-й точки от текущей (h = 4), используя результаты автокорреляционного анализа из предшествующих уроков ."
   ]
  },
  {
   "cell_type": "code",
   "execution_count": 6,
   "metadata": {},
   "outputs": [],
   "source": [
    "from sklearn.ensemble import GradientBoostingRegressor\n",
    "from sklearn.preprocessing import StandardScaler\n",
    "from sklearn.metrics import mean_absolute_error, mean_squared_error, median_absolute_error, r2_score\n",
    "\n",
    "scl =StandardScaler()\n",
    "scly =StandardScaler()\n",
    "\n",
    "def split_data_b(data, split_date ):\n",
    "    return data.loc[data.index.get_level_values('Date') <= split_date].copy(), \\\n",
    "           data.loc[data.index.get_level_values('Date') >  split_date].copy()\n",
    "\n",
    "train_b, test_b = split_data_b(df_week, '10-10-2016')"
   ]
  },
  {
   "cell_type": "code",
   "execution_count": 7,
   "metadata": {},
   "outputs": [],
   "source": [
    "def mean_absolute_percentage_error(y_true, y_pred): \n",
    "    y_true, y_pred = np.array(y_true), np.array(y_pred)\n",
    "    return np.mean(np.abs((y_true - y_pred) / y_true)) * 100"
   ]
  },
  {
   "cell_type": "code",
   "execution_count": 8,
   "metadata": {},
   "outputs": [
    {
     "name": "stdout",
     "output_type": "stream",
     "text": [
      "CPU times: user 577 ms, sys: 12.2 ms, total: 589 ms\n",
      "Wall time: 602 ms\n"
     ]
    }
   ],
   "source": [
    "%%time\n",
    "h=4\n",
    "X_train_b = train_b.iloc[:-h,:]\n",
    "y_train_b = train_b[df_week.columns[0]].values[h:]\n",
    "X_test_b = test_b.iloc[:-h,:]\n",
    "y_test_b = test_b[df_week.columns[0]].values[h:]\n",
    "\n",
    "model_gb = GradientBoostingRegressor(max_depth=15, random_state=0, n_estimators=100)\n",
    "model_gb.fit( X_train_b, y_train_b ) \n",
    "X_test_pred_gb = model_gb.predict(X_test_b)\n",
    "#y_test_pred_gb = model_gb.predict(y_test_b)"
   ]
  },
  {
   "cell_type": "code",
   "execution_count": 9,
   "metadata": {},
   "outputs": [
    {
     "ename": "KeyError",
     "evalue": "\"None of [Int64Index([0], dtype='int64')] are in the [columns]\"",
     "output_type": "error",
     "traceback": [
      "\u001b[0;31m---------------------------------------------------------------------------\u001b[0m",
      "\u001b[0;31mKeyError\u001b[0m                                  Traceback (most recent call last)",
      "\u001b[0;32m<ipython-input-9-67d7fcda38be>\u001b[0m in \u001b[0;36m<module>\u001b[0;34m\u001b[0m\n\u001b[1;32m      5\u001b[0m \u001b[0mplt\u001b[0m\u001b[0;34m.\u001b[0m\u001b[0mplot\u001b[0m\u001b[0;34m(\u001b[0m\u001b[0mtest_b\u001b[0m\u001b[0;34m.\u001b[0m\u001b[0mindex\u001b[0m\u001b[0;34m[\u001b[0m\u001b[0mh\u001b[0m\u001b[0;34m:\u001b[0m\u001b[0;34m]\u001b[0m\u001b[0;34m,\u001b[0m\u001b[0mX_test_pred_gb\u001b[0m\u001b[0;34m,\u001b[0m \u001b[0mlabel\u001b[0m\u001b[0;34m=\u001b[0m\u001b[0;34m'predict GB data +4 periods'\u001b[0m \u001b[0;34m)\u001b[0m\u001b[0;34m\u001b[0m\u001b[0;34m\u001b[0m\u001b[0m\n\u001b[1;32m      6\u001b[0m \u001b[0mplt\u001b[0m\u001b[0;34m.\u001b[0m\u001b[0mplot\u001b[0m\u001b[0;34m(\u001b[0m\u001b[0mtest_b\u001b[0m\u001b[0;34m.\u001b[0m\u001b[0mindex\u001b[0m\u001b[0;34m[\u001b[0m\u001b[0mh\u001b[0m\u001b[0;34m:\u001b[0m\u001b[0;34m]\u001b[0m\u001b[0;34m,\u001b[0m\u001b[0my_test_b\u001b[0m\u001b[0;34m,\u001b[0m \u001b[0mlabel\u001b[0m\u001b[0;34m=\u001b[0m\u001b[0;34m'test data'\u001b[0m\u001b[0;34m)\u001b[0m\u001b[0;34m\u001b[0m\u001b[0;34m\u001b[0m\u001b[0m\n\u001b[0;32m----> 7\u001b[0;31m \u001b[0mplt\u001b[0m\u001b[0;34m.\u001b[0m\u001b[0mplot\u001b[0m\u001b[0;34m(\u001b[0m\u001b[0mtest_b\u001b[0m\u001b[0;34m.\u001b[0m\u001b[0mindex\u001b[0m\u001b[0;34m,\u001b[0m \u001b[0mtest_b\u001b[0m\u001b[0;34m[\u001b[0m\u001b[0;34m[\u001b[0m\u001b[0;36m0\u001b[0m\u001b[0;34m]\u001b[0m\u001b[0;34m]\u001b[0m\u001b[0;34m,\u001b[0m \u001b[0mlabel\u001b[0m\u001b[0;34m=\u001b[0m\u001b[0;34m'исходный ряд'\u001b[0m\u001b[0;34m)\u001b[0m\u001b[0;34m\u001b[0m\u001b[0;34m\u001b[0m\u001b[0m\n\u001b[0m\u001b[1;32m      8\u001b[0m \u001b[0;34m\u001b[0m\u001b[0m\n\u001b[1;32m      9\u001b[0m \u001b[0mplt\u001b[0m\u001b[0;34m.\u001b[0m\u001b[0mlegend\u001b[0m\u001b[0;34m(\u001b[0m\u001b[0;34m)\u001b[0m\u001b[0;34m\u001b[0m\u001b[0;34m\u001b[0m\u001b[0m\n",
      "\u001b[0;32m~/opt/anaconda3/lib/python3.7/site-packages/pandas/core/frame.py\u001b[0m in \u001b[0;36m__getitem__\u001b[0;34m(self, key)\u001b[0m\n\u001b[1;32m   2804\u001b[0m             \u001b[0;32mif\u001b[0m \u001b[0mis_iterator\u001b[0m\u001b[0;34m(\u001b[0m\u001b[0mkey\u001b[0m\u001b[0;34m)\u001b[0m\u001b[0;34m:\u001b[0m\u001b[0;34m\u001b[0m\u001b[0;34m\u001b[0m\u001b[0m\n\u001b[1;32m   2805\u001b[0m                 \u001b[0mkey\u001b[0m \u001b[0;34m=\u001b[0m \u001b[0mlist\u001b[0m\u001b[0;34m(\u001b[0m\u001b[0mkey\u001b[0m\u001b[0;34m)\u001b[0m\u001b[0;34m\u001b[0m\u001b[0;34m\u001b[0m\u001b[0m\n\u001b[0;32m-> 2806\u001b[0;31m             \u001b[0mindexer\u001b[0m \u001b[0;34m=\u001b[0m \u001b[0mself\u001b[0m\u001b[0;34m.\u001b[0m\u001b[0mloc\u001b[0m\u001b[0;34m.\u001b[0m\u001b[0m_get_listlike_indexer\u001b[0m\u001b[0;34m(\u001b[0m\u001b[0mkey\u001b[0m\u001b[0;34m,\u001b[0m \u001b[0maxis\u001b[0m\u001b[0;34m=\u001b[0m\u001b[0;36m1\u001b[0m\u001b[0;34m,\u001b[0m \u001b[0mraise_missing\u001b[0m\u001b[0;34m=\u001b[0m\u001b[0;32mTrue\u001b[0m\u001b[0;34m)\u001b[0m\u001b[0;34m[\u001b[0m\u001b[0;36m1\u001b[0m\u001b[0;34m]\u001b[0m\u001b[0;34m\u001b[0m\u001b[0;34m\u001b[0m\u001b[0m\n\u001b[0m\u001b[1;32m   2807\u001b[0m \u001b[0;34m\u001b[0m\u001b[0m\n\u001b[1;32m   2808\u001b[0m         \u001b[0;31m# take() does not accept boolean indexers\u001b[0m\u001b[0;34m\u001b[0m\u001b[0;34m\u001b[0m\u001b[0;34m\u001b[0m\u001b[0m\n",
      "\u001b[0;32m~/opt/anaconda3/lib/python3.7/site-packages/pandas/core/indexing.py\u001b[0m in \u001b[0;36m_get_listlike_indexer\u001b[0;34m(self, key, axis, raise_missing)\u001b[0m\n\u001b[1;32m   1551\u001b[0m \u001b[0;34m\u001b[0m\u001b[0m\n\u001b[1;32m   1552\u001b[0m         self._validate_read_indexer(\n\u001b[0;32m-> 1553\u001b[0;31m             \u001b[0mkeyarr\u001b[0m\u001b[0;34m,\u001b[0m \u001b[0mindexer\u001b[0m\u001b[0;34m,\u001b[0m \u001b[0mo\u001b[0m\u001b[0;34m.\u001b[0m\u001b[0m_get_axis_number\u001b[0m\u001b[0;34m(\u001b[0m\u001b[0maxis\u001b[0m\u001b[0;34m)\u001b[0m\u001b[0;34m,\u001b[0m \u001b[0mraise_missing\u001b[0m\u001b[0;34m=\u001b[0m\u001b[0mraise_missing\u001b[0m\u001b[0;34m\u001b[0m\u001b[0;34m\u001b[0m\u001b[0m\n\u001b[0m\u001b[1;32m   1554\u001b[0m         )\n\u001b[1;32m   1555\u001b[0m         \u001b[0;32mreturn\u001b[0m \u001b[0mkeyarr\u001b[0m\u001b[0;34m,\u001b[0m \u001b[0mindexer\u001b[0m\u001b[0;34m\u001b[0m\u001b[0;34m\u001b[0m\u001b[0m\n",
      "\u001b[0;32m~/opt/anaconda3/lib/python3.7/site-packages/pandas/core/indexing.py\u001b[0m in \u001b[0;36m_validate_read_indexer\u001b[0;34m(self, key, indexer, axis, raise_missing)\u001b[0m\n\u001b[1;32m   1638\u001b[0m             \u001b[0;32mif\u001b[0m \u001b[0mmissing\u001b[0m \u001b[0;34m==\u001b[0m \u001b[0mlen\u001b[0m\u001b[0;34m(\u001b[0m\u001b[0mindexer\u001b[0m\u001b[0;34m)\u001b[0m\u001b[0;34m:\u001b[0m\u001b[0;34m\u001b[0m\u001b[0;34m\u001b[0m\u001b[0m\n\u001b[1;32m   1639\u001b[0m                 \u001b[0maxis_name\u001b[0m \u001b[0;34m=\u001b[0m \u001b[0mself\u001b[0m\u001b[0;34m.\u001b[0m\u001b[0mobj\u001b[0m\u001b[0;34m.\u001b[0m\u001b[0m_get_axis_name\u001b[0m\u001b[0;34m(\u001b[0m\u001b[0maxis\u001b[0m\u001b[0;34m)\u001b[0m\u001b[0;34m\u001b[0m\u001b[0;34m\u001b[0m\u001b[0m\n\u001b[0;32m-> 1640\u001b[0;31m                 \u001b[0;32mraise\u001b[0m \u001b[0mKeyError\u001b[0m\u001b[0;34m(\u001b[0m\u001b[0;34mf\"None of [{key}] are in the [{axis_name}]\"\u001b[0m\u001b[0;34m)\u001b[0m\u001b[0;34m\u001b[0m\u001b[0;34m\u001b[0m\u001b[0m\n\u001b[0m\u001b[1;32m   1641\u001b[0m \u001b[0;34m\u001b[0m\u001b[0m\n\u001b[1;32m   1642\u001b[0m             \u001b[0;31m# We (temporarily) allow for some missing keys with .loc, except in\u001b[0m\u001b[0;34m\u001b[0m\u001b[0;34m\u001b[0m\u001b[0;34m\u001b[0m\u001b[0m\n",
      "\u001b[0;31mKeyError\u001b[0m: \"None of [Int64Index([0], dtype='int64')] are in the [columns]\""
     ]
    },
    {
     "data": {
      "image/png": "[encoded data removed]",
      "text/plain": [
       "<Figure size 1440x288 with 1 Axes>"
      ]
     },
     "metadata": {
      "needs_background": "light"
     },
     "output_type": "display_data"
    }
   ],
   "source": [
    "plt.figure( figsize=( 20, 4 ))\n",
    "\n",
    "plt.xlabel('Время')\n",
    "plt.ylabel('Потребление мВт')\n",
    "plt.plot(test_b.index[h:],X_test_pred_gb, label='predict GB data +4 periods' )\n",
    "plt.plot(test_b.index[h:],y_test_b, label='test data')\n",
    "plt.plot(test_b.index, test_b[[0]], label='исходный ряд')\n",
    "\n",
    "plt.legend()\n",
    "plt.show()\n",
    "\n",
    "er_g4 = mean_absolute_percentage_error(y_true=y_test_b, y_pred=X_test_pred_gb)"
   ]
  },
  {
   "cell_type": "code",
   "execution_count": null,
   "metadata": {},
   "outputs": [],
   "source": [
    "test_b.iloc[:,0]"
   ]
  },
  {
   "cell_type": "markdown",
   "metadata": {},
   "source": [
    "## Задание 3\n",
    "\n",
    "Постройте модель предсказания 1-й точки от текущей (h = 1), используя результаты автокорреляционного анализа из предшествующих уроков ."
   ]
  },
  {
   "cell_type": "code",
   "execution_count": null,
   "metadata": {},
   "outputs": [],
   "source": [
    "%%time\n",
    "h=1\n",
    "X_train_b = train_b.iloc[:-h,:]\n",
    "y_train_b = train_b[df_week.columns[0]].values[h:]\n",
    "X_test_b = test_b.iloc[:-h,:]\n",
    "y_test_b = test_b[df_week.columns[0]].values[h:]\n",
    "\n",
    "model_gb = GradientBoostingRegressor(max_depth=15, random_state=0, n_estimators=100)\n",
    "model_gb.fit( X_train_b, y_train_b ) \n",
    "X_test_pred_gb = model_gb.predict(X_test_b)\n"
   ]
  },
  {
   "cell_type": "code",
   "execution_count": null,
   "metadata": {},
   "outputs": [],
   "source": [
    "plt.figure( figsize=( 20, 4 ))\n",
    "\n",
    "plt.xlabel('Время')\n",
    "plt.ylabel('Потребление мВт')\n",
    "plt.plot(test_b.index[h:],X_test_pred_gb, label='predict GB data +1 period' )\n",
    "plt.plot(test_b.index[h:],y_test_b, label='test data')\n",
    "#plt.plot(test_b.index, test_b[[0]], label='исходный ряд')\n",
    "\n",
    "plt.legend()\n",
    "plt.show()\n",
    "\n",
    "er_g1 = mean_absolute_percentage_error(y_true=y_test_b, y_pred=X_test_pred_gb)"
   ]
  },
  {
   "cell_type": "code",
   "execution_count": null,
   "metadata": {},
   "outputs": [],
   "source": [
    "print(f'На горизонте 1 ошибка: {er_g1}%, на горизоне 4 ошибка: {er_g4}%')"
   ]
  },
  {
   "cell_type": "markdown",
   "metadata": {},
   "source": [
    "## Задание 4\n",
    "\n",
    "Примените авторекурсию и сравните результат в 4-й точке путем прямого моделирования и путем рекурсивного моделирования на длине выборки из 4-х точек."
   ]
  },
  {
   "cell_type": "markdown",
   "metadata": {},
   "source": [
    "### Создаём признаки"
   ]
  },
  {
   "cell_type": "code",
   "execution_count": null,
   "metadata": {},
   "outputs": [],
   "source": [
    "# стандартизация данных\n",
    "scl=StandardScaler()\n",
    "X = df_week.iloc[:,:-1].values\n",
    "Xscale = scl.fit_transform(X)"
   ]
  },
  {
   "cell_type": "code",
   "execution_count": null,
   "metadata": {},
   "outputs": [],
   "source": [
    "from sklearn.decomposition import PCA\n",
    "\n",
    "# создание двух признаков pca1, pca2\n",
    "pca = PCA(n_components=2, svd_solver='full')\n",
    "Xpca=pca.fit_transform(Xscale[:,1:])\n",
    "df_week['pca1']=Xpca[:,0]\n",
    "df_week['pca2']=Xpca[:,1]"
   ]
  },
  {
   "cell_type": "code",
   "execution_count": null,
   "metadata": {},
   "outputs": [],
   "source": [
    "# разница 1го порядка\n",
    "first_diff =np.array(df_week.iloc[1:,0].values - df_week.iloc[:-1,0].values).astype('float32') \n",
    "df_week['diff1'] = 0\n",
    "df_week['diff1'] =  df_week['diff1'].astype('float') \n",
    "df_week['diff1'].values[1:] = first_diff"
   ]
  },
  {
   "cell_type": "code",
   "execution_count": null,
   "metadata": {},
   "outputs": [],
   "source": [
    "# скользящее среднее по 4м неделям (1 месяц)\n",
    "df_week['4w']=df_week['PJME_MW'].rolling(window=4).mean()"
   ]
  },
  {
   "cell_type": "code",
   "execution_count": null,
   "metadata": {},
   "outputs": [],
   "source": [
    "# EMA экспоненциальное скользящее среднее\n",
    "def exponential_smoothing(series, alpha):\n",
    "    result = [series[0]] \n",
    "    for n in range(1, len(series)):\n",
    "        result.append(alpha * series[n] + (1 - alpha) * result[n-1])\n",
    "    return result\n",
    "\n",
    "df_week['exp_0_05'] = exponential_smoothing(df_week['PJME_MW'], 0.05)"
   ]
  },
  {
   "cell_type": "markdown",
   "metadata": {},
   "source": [
    "Визуализиуем новые признаки:"
   ]
  },
  {
   "cell_type": "code",
   "execution_count": null,
   "metadata": {},
   "outputs": [],
   "source": [
    "N100=200\n",
    "plt.plot(df_week.index[:N100],df_week['PJME_MW'][:N100],'r',label ='основной ряд')\n",
    "plt.plot(df_week.index[:N100],df_week['diff1'][:N100],'--k',label ='1-е разности')\n",
    "plt.plot(df_week.index[:N100],df_week['4w'][:N100],'--b',label ='скользящее среднее 4 нед.')\n",
    "plt.plot(df_week.index[:N100],df_week['exp_0_05'][:N100],'--g',label ='экспонентциальное среднее')\n",
    "plt.legend()\n",
    "plt.show()"
   ]
  },
  {
   "cell_type": "code",
   "execution_count": null,
   "metadata": {},
   "outputs": [],
   "source": [
    "# экспоненциальные скользящие средние\n",
    "df_week['exp_0_02'] = exponential_smoothing(df_week['PJME_MW'], 0.02)\n",
    "df_week['exp_0_08'] = exponential_smoothing(df_week['PJME_MW'], 0.08)\n",
    "\n",
    "N100=400\n",
    "plt.plot(df_week.index[:N100],df_week['PJME_MW'][:N100],'r',label ='основной ряд',alpha=0.3)\n",
    "plt.plot(df_week.index[:N100],df_week['exp_0_02'][:N100],'--g',label ='экспоненциальное среднее')\n",
    "plt.plot(df_week.index[:N100],df_week['exp_0_05'][:N100],'--b',label ='экспоненциальное среднее')\n",
    "plt.plot(df_week.index[:N100],df_week['exp_0_08'][:N100],'--k',label ='экспоненциальное среднее')\n",
    "plt.legend()\n",
    "plt.title('PJME MW')\n",
    "plt.show()"
   ]
  },
  {
   "cell_type": "code",
   "execution_count": null,
   "metadata": {},
   "outputs": [],
   "source": [
    "df_week = df_week.dropna()"
   ]
  },
  {
   "cell_type": "markdown",
   "metadata": {},
   "source": [
    "Добавим истории длиной p в признаках автокорреляции"
   ]
  },
  {
   "cell_type": "code",
   "execution_count": null,
   "metadata": {},
   "outputs": [],
   "source": [
    "p = 4\n",
    "for i in range(p):\n",
    "    df_week['t'+str(p-i)]=0\n",
    "    df_week['t'+str(p-i)].values[p:] = df_week['PJME_MW'].values[i:-(p)+i]"
   ]
  },
  {
   "cell_type": "markdown",
   "metadata": {},
   "source": [
    "добавляем первые разности на глубину p"
   ]
  },
  {
   "cell_type": "code",
   "execution_count": null,
   "metadata": {},
   "outputs": [],
   "source": [
    "p = 4\n",
    "for i in range(p):\n",
    "    df_week['d'+str(p-i)]=0\n",
    "    df_week['d'+str(p-i)].values[p:] = df_week['diff1'].values[i:-(p)+i]"
   ]
  },
  {
   "cell_type": "code",
   "execution_count": null,
   "metadata": {},
   "outputs": [],
   "source": [
    "# Итоговая система признаков\n",
    "pd.options.display.max_columns = None\n",
    "df_week"
   ]
  },
  {
   "cell_type": "markdown",
   "metadata": {},
   "source": [
    "### Выделение существенных признаков"
   ]
  },
  {
   "cell_type": "code",
   "execution_count": null,
   "metadata": {},
   "outputs": [],
   "source": [
    "scl_target=StandardScaler() \n",
    "# p = 4\n",
    "h=4\n",
    "target = df_week['PJME_MW'].values[h+p:].reshape((df_week.shape[0]-h-p,1))\n",
    "y = scl_target.fit_transform(target)\n",
    "y.shape"
   ]
  },
  {
   "cell_type": "code",
   "execution_count": null,
   "metadata": {},
   "outputs": [],
   "source": [
    "scl_x=StandardScaler() \n",
    "\n",
    "X = df_week.iloc[p:-h,:].values\n",
    "X = scl_x.fit_transform(X.astype('float64'))\n",
    "X.shape"
   ]
  },
  {
   "cell_type": "code",
   "execution_count": null,
   "metadata": {},
   "outputs": [],
   "source": [
    "from sklearn.feature_selection import SelectKBest, SelectPercentile\n",
    "from sklearn.feature_selection import SelectFromModel\n",
    "\n",
    "from sklearn.ensemble import GradientBoostingRegressor\n",
    "\n",
    "from sklearn.feature_selection import f_regression, mutual_info_regression\n",
    "\n",
    "f_test, _ = f_regression(X, y.ravel())\n",
    "f_test /= np.max(f_test)\n",
    "for i in range(X.shape[1]):\n",
    "    print(\"F-test={:.2f},  I={}\".format(f_test[i],i))"
   ]
  },
  {
   "cell_type": "markdown",
   "metadata": {},
   "source": [
    "Применим автоматизацию выбора через SelectKBest c выделением 5 лучших признаков."
   ]
  },
  {
   "cell_type": "code",
   "execution_count": null,
   "metadata": {},
   "outputs": [],
   "source": [
    "sfk =SelectKBest(f_regression, k=5)\n",
    "X_new1 =sfk.fit_transform(X, y.ravel())\n",
    "X_new1.shape"
   ]
  },
  {
   "cell_type": "code",
   "execution_count": null,
   "metadata": {},
   "outputs": [],
   "source": [
    "column_names = df_week.columns[sfk.get_support()]\n",
    "column_names"
   ]
  },
  {
   "cell_type": "markdown",
   "metadata": {},
   "source": [
    "Лучшее множество признаков отделено в X_new1"
   ]
  },
  {
   "cell_type": "markdown",
   "metadata": {},
   "source": [
    "### Разделение данных на тестовые и тренировочные "
   ]
  },
  {
   "cell_type": "code",
   "execution_count": null,
   "metadata": {},
   "outputs": [],
   "source": [
    "# сделаем функцию разбиения на трейн и тест выборки\n",
    "def split_data( data, split_date ):\n",
    "    return data.loc[data.index.get_level_values('Date') <= split_date].copy(), \\\n",
    "           data.loc[data.index.get_level_values('Date') >  split_date].copy()"
   ]
  },
  {
   "cell_type": "markdown",
   "metadata": {},
   "source": [
    "назначим датой разделения 1/06/2016"
   ]
  },
  {
   "cell_type": "code",
   "execution_count": null,
   "metadata": {},
   "outputs": [],
   "source": [
    "train, test = split_data(df_week, '01-06-2016')\n",
    "\n",
    "plt.figure( figsize=( 15, 7 ))\n",
    "plt.xlabel('Время')\n",
    "plt.ylabel('Потребление энергии, МВт')\n",
    "plt.plot(train.index.get_level_values('Date'),train['PJME_MW'], label='train data' )\n",
    "plt.plot(test.index.get_level_values('Date'),test['PJME_MW'], label='test data')\n",
    "plt.title( 'Тестовые и тренировочные данные' )\n",
    "plt.legend()\n",
    "plt.show()"
   ]
  },
  {
   "cell_type": "code",
   "execution_count": null,
   "metadata": {},
   "outputs": [],
   "source": [
    "X_train =X_new1[:train.shape[0],:]\n",
    "y_train =y[:train.shape[0],0]\n",
    "X_test =X_new1[train.shape[0]:,:]\n",
    "y_test =y[train.shape[0]:,0]"
   ]
  },
  {
   "cell_type": "code",
   "execution_count": null,
   "metadata": {
    "scrolled": true
   },
   "outputs": [],
   "source": [
    "X_new1"
   ]
  },
  {
   "cell_type": "markdown",
   "metadata": {},
   "source": [
    "### Строим Модель"
   ]
  },
  {
   "cell_type": "code",
   "execution_count": null,
   "metadata": {},
   "outputs": [],
   "source": [
    "from sklearn.ensemble import GradientBoostingRegressor"
   ]
  },
  {
   "cell_type": "code",
   "execution_count": null,
   "metadata": {},
   "outputs": [],
   "source": [
    "model_g = GradientBoostingRegressor(max_depth=15, random_state=0, n_estimators=100)"
   ]
  },
  {
   "cell_type": "code",
   "execution_count": null,
   "metadata": {},
   "outputs": [],
   "source": [
    "model_g.fit( X_train, y_train ) # "
   ]
  },
  {
   "cell_type": "code",
   "execution_count": null,
   "metadata": {},
   "outputs": [],
   "source": [
    "y_test_pred_g = model_g.predict(X_test)"
   ]
  },
  {
   "cell_type": "code",
   "execution_count": null,
   "metadata": {},
   "outputs": [],
   "source": [
    "h = 4\n",
    "h_list = []\n",
    "X_train_b = train.iloc[:-h,:]\n",
    "y_train_b = train[df_week.columns[0]].values[h:]\n",
    "X_test_b = test.iloc[:-h,:]\n",
    "y_test_b = test[df_week.columns[0]].values[h:]\n",
    "\n",
    "model_gb.fit( X_train_b, y_train_b ) \n",
    "X_test_pred_gb = model_gb.predict(X_test_b)\n",
    "\n",
    "er_g_ = mean_absolute_percentage_error(y_true=y_test_b, y_pred=X_test_pred_gb)\n",
    "\n",
    "item = {'h_value':h, 'MAPE':er_g_}\n",
    "print(item)"
   ]
  },
  {
   "cell_type": "code",
   "execution_count": null,
   "metadata": {},
   "outputs": [],
   "source": [
    "plt.figure( figsize=( 15, 7 ))\n",
    "\n",
    "plt.xlabel('Время')\n",
    "plt.ylabel('Потребление энергии, МВт')\n",
    "plt.plot(test.index[h+p:],y_test_pred_g, label='predict GB data' )\n",
    "plt.plot(test.index[h+p:],y_test, label='test data')\n",
    "\n",
    "plt.legend()\n",
    "plt.show()"
   ]
  },
  {
   "cell_type": "markdown",
   "metadata": {},
   "source": [
    "**Оценки для сравнения моделей**"
   ]
  },
  {
   "cell_type": "markdown",
   "metadata": {},
   "source": [
    "Оценим промах модели, используя метрики, которые можно применять для оценки регрессий https://scikit-learn.org/stable/modules/model_evaluation.html#regression-metrics:\n",
    "- средне-квадратичное отклонение\n",
    "- среднюю абсолютную ошибку\n",
    "- коэфиициент детерминации "
   ]
  },
  {
   "cell_type": "code",
   "execution_count": null,
   "metadata": {},
   "outputs": [],
   "source": [
    "from sklearn.metrics import mean_squared_error\n",
    "from sklearn.metrics import mean_absolute_error\n",
    "from sklearn.metrics import r2_score"
   ]
  },
  {
   "cell_type": "code",
   "execution_count": null,
   "metadata": {},
   "outputs": [],
   "source": [
    "er_s = mean_squared_error(y_true=y_test, y_pred=y_test_pred_g) \n",
    "er_a = mean_absolute_error(y_true=y_test, y_pred=y_test_pred_g) \n",
    "er_r2 = r2_score(y_true=y_test, y_pred=y_test_pred_g)\n",
    "\n",
    "print('ошибка mse :  ', er_s,'\\nошибка mae  :  ', er_a,'\\nоценка R2 :  ', er_r2)"
   ]
  },
  {
   "cell_type": "code",
   "execution_count": null,
   "metadata": {},
   "outputs": [],
   "source": [
    "def mean_absolute_percentage_error(y_true, y_pred): \n",
    "    y_true, y_pred = np.array(y_true), np.array(y_pred)\n",
    "    return np.mean(np.abs((y_true - y_pred) / y_true)) * 100"
   ]
  },
  {
   "cell_type": "code",
   "execution_count": null,
   "metadata": {},
   "outputs": [],
   "source": [
    "er_g = mean_absolute_percentage_error(y_true=scl_target.inverse_transform( y_test),y_pred = scl_target.inverse_transform( y_test_pred_g))\n",
    "\n",
    "print('ошибка градиентного бустинга MAPE :  ', er_g,'%')"
   ]
  },
  {
   "cell_type": "markdown",
   "metadata": {},
   "source": [
    "### Использование рекурсивной модели для предсказания n*h моментов времени"
   ]
  },
  {
   "cell_type": "code",
   "execution_count": null,
   "metadata": {},
   "outputs": [],
   "source": [
    "n = 4"
   ]
  },
  {
   "cell_type": "code",
   "execution_count": null,
   "metadata": {},
   "outputs": [],
   "source": [
    "#['PJME_MW', '4w', 't1', 'd3', 'd2']\n",
    "X_test_100 = X_test.copy()\n",
    "y_test_100 = y_test_pred_g.copy()\n",
    "N10 = n\n",
    "for i in range(N10):\n",
    "    y_test_100[i] = model_g.predict(X_test_100[i,:].reshape((1,5)))\n",
    "    \n",
    "    # заполняем вектор для прогноза следующей точки\n",
    "    X_test_100[i+1,0] = y_test_100[i]\n",
    "#     X_test_100[i+1,1] = 0#y_test_100[i]\n",
    "#     X_test_100[i+1,2] = 0#y_test_100[i]\n",
    "#     X_test_100[i+1,3] = 0#y_test_100[i]\n",
    "#     X_test_100[i+1,4] = 0#y_test_100[i]\n",
    "    \n",
    "plt.figure( figsize=( 15, 7 ))\n",
    "\n",
    "\n",
    "plt.xlabel('Время')\n",
    "plt.ylabel('Потребление энергии, МВт')\n",
    "plt.plot(test.index[1:N10+1],y_test_pred_g[:N10], 'r',label='predict GB data' )\n",
    "plt.plot(test.index[1:N10+1],y_test[:N10], 'g',label='test data', alpha=0.5)\n",
    "plt.plot(test.index[1:N10+1],y_test_100[:N10], '--r',label='slide predict data')\n",
    "\n",
    "plt.legend()\n",
    "plt.show()    "
   ]
  },
  {
   "cell_type": "code",
   "execution_count": null,
   "metadata": {},
   "outputs": [],
   "source": [
    "er_g = mean_absolute_percentage_error(y_true=scl_target.inverse_transform( y_test[:N10]),y_pred = scl_target.inverse_transform( y_test_100[:N10]))\n",
    "print('ошибка градиентного бустинга MAPE :  ', er_g,'%')"
   ]
  },
  {
   "cell_type": "markdown",
   "metadata": {},
   "source": [
    "**Вывод: MAPE рекурсивного метода 40%, а g-boost 10%**"
   ]
  },
  {
   "cell_type": "markdown",
   "metadata": {},
   "source": [
    "### Задание 5\n",
    "\n",
    "Оцените рост ошибки прогнозирования рекурсивной модели в интервалах от 1-й до 10-й, от 10-й до 20-й, от 20-й до 30-й, .. .10i-й до (i+1)10 -й,... ,от 90 до 100-й точках (используйте осреднение по десяткам точек)"
   ]
  },
  {
   "cell_type": "code",
   "execution_count": null,
   "metadata": {},
   "outputs": [],
   "source": [
    "#['PJME_MW', '4w', 't1', 'd3', 'd2']\n",
    "X_test_100 = X_test.copy()\n",
    "y_test_100 = y_test_pred_g.copy()\n",
    "N10 = 100\n",
    "av_mapes = []\n",
    "for i1 in range(10):\n",
    "    av_mape = 0\n",
    "    for i2 in range(10):\n",
    "        y_test_100[i1*10+i2] = model_g.predict(X_test_100[i1*10+i2,:].reshape((1,5)))\n",
    "\n",
    "        # заполняем вектор для прогноза следующей точки\n",
    "        X_test_100[i1*10+i2+1,0] = y_test_100[i]\n",
    "        \n",
    "        er_mape = mean_absolute_percentage_error(y_true=scl_target.inverse_transform( y_test[:N10]),y_pred = scl_target.inverse_transform( y_test_100[:N10]))\n",
    "        av_mape = av_mape + (er_mape/(i2+1))\n",
    "        \n",
    "        \n",
    "    item = {'from':i1*10, 'up_to':i1*10+10, 'mape':av_mape}\n",
    "    av_mapes.append(item)\n",
    "    print(item)\n",
    "    #print(f'from {i1*10} to {i1*10+10} MAPE is: {av_mape}')    "
   ]
  },
  {
   "cell_type": "code",
   "execution_count": null,
   "metadata": {},
   "outputs": [],
   "source": [
    "mapes_df = pd.DataFrame(av_mapes)\n",
    "mapes_df"
   ]
  },
  {
   "cell_type": "code",
   "execution_count": null,
   "metadata": {},
   "outputs": [],
   "source": [
    "plt.xlabel('periods in horizont')\n",
    "plt.ylabel('MAPE')\n",
    "plt.plot(mapes_df['up_to'],mapes_df['mape'], 'r',label='predict GB data' )\n",
    "plt.legend()\n",
    "plt.show()  "
   ]
  },
  {
   "cell_type": "markdown",
   "metadata": {},
   "source": [
    "### Задание 6\n",
    "\n",
    "Сделайте вывод о том, как изменилось поведение ошибки предсказания ряда."
   ]
  },
  {
   "cell_type": "markdown",
   "metadata": {},
   "source": [
    "Ошибка предсказания растёт с увеличением горизонта предсказания. Рост ошибки линейный, и, что кажется удивительным (возможно, у меня где-то ошибка), растёт совсем не так, как я бы мог ожидать: При увеличении горизонта предсказания с 10 дней до 50 (в пять раз!) ошибка вырастает всего на 10%! Для меня пока это удивительно, хотя, вероятно, где-то ошибка"
   ]
  },
  {
   "cell_type": "code",
   "execution_count": null,
   "metadata": {},
   "outputs": [],
   "source": []
  }
 ],
 "metadata": {
  "kernelspec": {
   "display_name": "Python 3",
   "language": "python",
   "name": "python3"
  },
  "language_info": {
   "codemirror_mode": {
    "name": "ipython",
    "version": 3
   },
   "file_extension": ".py",
   "mimetype": "text/x-python",
   "name": "python",
   "nbconvert_exporter": "python",
   "pygments_lexer": "ipython3",
   "version": "3.7.4"
  }
 },
 "nbformat": 4,
 "nbformat_minor": 2
}
