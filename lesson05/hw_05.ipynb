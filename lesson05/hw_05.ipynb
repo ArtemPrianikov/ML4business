{
 "cells": [
  {
   "cell_type": "markdown",
   "metadata": {},
   "source": [
    "# ДЗ 05. ML для бизнеса"
   ]
  },
  {
   "cell_type": "markdown",
   "metadata": {},
   "source": [
    "__1.__ Прочитайте базу my_BRENT2019.csv и перейдите к представлению ряда первыми разностями\n",
    "\n",
    "__2.__ Добавьте первые разности по стоимости доллара и евро к рублю (можно добавить и сами курсы валют - прошлые значения)\n",
    "\n",
    "__3.__ сделайте ее перрасчет (ресемплинг) в представление по неделям.\n",
    "\n",
    "__4.__ Постройте модель предсказания 1-й точки от текущей (h=1).\n",
    "\n",
    "__5.__ Сделайте вывод о поведении ошибки предсказания ряда в сравнении с прямым прогнозированием."
   ]
  },
  {
   "cell_type": "code",
   "execution_count": 8,
   "metadata": {},
   "outputs": [
    {
     "name": "stderr",
     "output_type": "stream",
     "text": [
      "/Users/artem/opt/anaconda3/lib/python3.7/site-packages/statsmodels/tools/_testing.py:19: FutureWarning: pandas.util.testing is deprecated. Use the functions in the public API at pandas.testing instead.\n",
      "  import pandas.util.testing as tm\n"
     ]
    }
   ],
   "source": [
    "%matplotlib inline\n",
    "import matplotlib.pyplot as plt\n",
    "\n",
    "import numpy as np\n",
    "import pandas as pd \n",
    "import seaborn as sns\n",
    "\n",
    "\n",
    "from sklearn.metrics import mean_squared_error\n",
    "import os\n",
    "\n",
    "\n",
    "import statsmodels.api as sm\n",
    "from sklearn.metrics import mean_squared_error\n",
    "\n",
    "import warnings\n",
    "warnings.filterwarnings(\"ignore\")"
   ]
  },
  {
   "cell_type": "markdown",
   "metadata": {},
   "source": [
    "## Задание 1\n",
    "\n",
    "Прочитайте базу my_BRENT2019.csv и перейдите к представлению ряда первыми разностями"
   ]
  },
  {
   "cell_type": "code",
   "execution_count": 74,
   "metadata": {},
   "outputs": [
    {
     "data": {
      "text/html": [
       "<div>\n",
       "<style scoped>\n",
       "    .dataframe tbody tr th:only-of-type {\n",
       "        vertical-align: middle;\n",
       "    }\n",
       "\n",
       "    .dataframe tbody tr th {\n",
       "        vertical-align: top;\n",
       "    }\n",
       "\n",
       "    .dataframe thead th {\n",
       "        text-align: right;\n",
       "    }\n",
       "</style>\n",
       "<table border=\"1\" class=\"dataframe\">\n",
       "  <thead>\n",
       "    <tr style=\"text-align: right;\">\n",
       "      <th></th>\n",
       "      <th>Значение</th>\n",
       "      <th>year</th>\n",
       "      <th>month</th>\n",
       "      <th>dayofmonth</th>\n",
       "      <th>quarter</th>\n",
       "      <th>dayofyear</th>\n",
       "      <th>weekofyear</th>\n",
       "      <th>dayofweek</th>\n",
       "      <th>is_holiday</th>\n",
       "      <th>is_prev_holiday</th>\n",
       "      <th>is_next_holiday</th>\n",
       "    </tr>\n",
       "    <tr>\n",
       "      <th>Дата</th>\n",
       "      <th></th>\n",
       "      <th></th>\n",
       "      <th></th>\n",
       "      <th></th>\n",
       "      <th></th>\n",
       "      <th></th>\n",
       "      <th></th>\n",
       "      <th></th>\n",
       "      <th></th>\n",
       "      <th></th>\n",
       "      <th></th>\n",
       "    </tr>\n",
       "  </thead>\n",
       "  <tbody>\n",
       "    <tr>\n",
       "      <th>2010-09-01</th>\n",
       "      <td>76.37</td>\n",
       "      <td>2010</td>\n",
       "      <td>9</td>\n",
       "      <td>1</td>\n",
       "      <td>3</td>\n",
       "      <td>244</td>\n",
       "      <td>35</td>\n",
       "      <td>2</td>\n",
       "      <td>0</td>\n",
       "      <td>0</td>\n",
       "      <td>0</td>\n",
       "    </tr>\n",
       "    <tr>\n",
       "      <th>2010-09-02</th>\n",
       "      <td>76.89</td>\n",
       "      <td>2010</td>\n",
       "      <td>9</td>\n",
       "      <td>2</td>\n",
       "      <td>3</td>\n",
       "      <td>245</td>\n",
       "      <td>35</td>\n",
       "      <td>3</td>\n",
       "      <td>0</td>\n",
       "      <td>0</td>\n",
       "      <td>0</td>\n",
       "    </tr>\n",
       "    <tr>\n",
       "      <th>2010-09-03</th>\n",
       "      <td>76.57</td>\n",
       "      <td>2010</td>\n",
       "      <td>9</td>\n",
       "      <td>3</td>\n",
       "      <td>3</td>\n",
       "      <td>246</td>\n",
       "      <td>35</td>\n",
       "      <td>4</td>\n",
       "      <td>0</td>\n",
       "      <td>0</td>\n",
       "      <td>0</td>\n",
       "    </tr>\n",
       "    <tr>\n",
       "      <th>2010-09-04</th>\n",
       "      <td>76.62</td>\n",
       "      <td>2010</td>\n",
       "      <td>9</td>\n",
       "      <td>4</td>\n",
       "      <td>3</td>\n",
       "      <td>247</td>\n",
       "      <td>35</td>\n",
       "      <td>5</td>\n",
       "      <td>0</td>\n",
       "      <td>0</td>\n",
       "      <td>0</td>\n",
       "    </tr>\n",
       "    <tr>\n",
       "      <th>2010-09-05</th>\n",
       "      <td>76.63</td>\n",
       "      <td>2010</td>\n",
       "      <td>9</td>\n",
       "      <td>5</td>\n",
       "      <td>3</td>\n",
       "      <td>248</td>\n",
       "      <td>35</td>\n",
       "      <td>6</td>\n",
       "      <td>0</td>\n",
       "      <td>1</td>\n",
       "      <td>0</td>\n",
       "    </tr>\n",
       "  </tbody>\n",
       "</table>\n",
       "</div>"
      ],
      "text/plain": [
       "            Значение  year  month  dayofmonth  quarter  dayofyear  weekofyear  \\\n",
       "Дата                                                                            \n",
       "2010-09-01     76.37  2010      9           1        3        244          35   \n",
       "2010-09-02     76.89  2010      9           2        3        245          35   \n",
       "2010-09-03     76.57  2010      9           3        3        246          35   \n",
       "2010-09-04     76.62  2010      9           4        3        247          35   \n",
       "2010-09-05     76.63  2010      9           5        3        248          35   \n",
       "\n",
       "            dayofweek  is_holiday  is_prev_holiday  is_next_holiday  \n",
       "Дата                                                                 \n",
       "2010-09-01          2           0                0                0  \n",
       "2010-09-02          3           0                0                0  \n",
       "2010-09-03          4           0                0                0  \n",
       "2010-09-04          5           0                0                0  \n",
       "2010-09-05          6           0                1                0  "
      ]
     },
     "execution_count": 74,
     "metadata": {},
     "output_type": "execute_result"
    }
   ],
   "source": [
    "df = pd.read_csv('/Users/artem/Movies/ML_buisness_course/lection5/my_BRENT2019.csv', index_col=[0], parse_dates=[0])\n",
    "df.head()"
   ]
  },
  {
   "cell_type": "markdown",
   "metadata": {},
   "source": [
    "Сдвигаем цену на 1 период вперёд и находим разницу сегодняшней цены и вчерашней (столбец '1d_diff'):"
   ]
  },
  {
   "cell_type": "code",
   "execution_count": 75,
   "metadata": {},
   "outputs": [
    {
     "data": {
      "text/html": [
       "<div>\n",
       "<style scoped>\n",
       "    .dataframe tbody tr th:only-of-type {\n",
       "        vertical-align: middle;\n",
       "    }\n",
       "\n",
       "    .dataframe tbody tr th {\n",
       "        vertical-align: top;\n",
       "    }\n",
       "\n",
       "    .dataframe thead th {\n",
       "        text-align: right;\n",
       "    }\n",
       "</style>\n",
       "<table border=\"1\" class=\"dataframe\">\n",
       "  <thead>\n",
       "    <tr style=\"text-align: right;\">\n",
       "      <th></th>\n",
       "      <th>Значение</th>\n",
       "      <th>year</th>\n",
       "      <th>month</th>\n",
       "      <th>dayofmonth</th>\n",
       "      <th>quarter</th>\n",
       "      <th>dayofyear</th>\n",
       "      <th>weekofyear</th>\n",
       "      <th>dayofweek</th>\n",
       "      <th>is_holiday</th>\n",
       "      <th>is_prev_holiday</th>\n",
       "      <th>is_next_holiday</th>\n",
       "      <th>1d_shift</th>\n",
       "      <th>1d_diff</th>\n",
       "    </tr>\n",
       "    <tr>\n",
       "      <th>Дата</th>\n",
       "      <th></th>\n",
       "      <th></th>\n",
       "      <th></th>\n",
       "      <th></th>\n",
       "      <th></th>\n",
       "      <th></th>\n",
       "      <th></th>\n",
       "      <th></th>\n",
       "      <th></th>\n",
       "      <th></th>\n",
       "      <th></th>\n",
       "      <th></th>\n",
       "      <th></th>\n",
       "    </tr>\n",
       "  </thead>\n",
       "  <tbody>\n",
       "    <tr>\n",
       "      <th>2010-09-02</th>\n",
       "      <td>76.89</td>\n",
       "      <td>2010</td>\n",
       "      <td>9</td>\n",
       "      <td>2</td>\n",
       "      <td>3</td>\n",
       "      <td>245</td>\n",
       "      <td>35</td>\n",
       "      <td>3</td>\n",
       "      <td>0</td>\n",
       "      <td>0</td>\n",
       "      <td>0</td>\n",
       "      <td>76.37</td>\n",
       "      <td>0.52</td>\n",
       "    </tr>\n",
       "    <tr>\n",
       "      <th>2010-09-03</th>\n",
       "      <td>76.57</td>\n",
       "      <td>2010</td>\n",
       "      <td>9</td>\n",
       "      <td>3</td>\n",
       "      <td>3</td>\n",
       "      <td>246</td>\n",
       "      <td>35</td>\n",
       "      <td>4</td>\n",
       "      <td>0</td>\n",
       "      <td>0</td>\n",
       "      <td>0</td>\n",
       "      <td>76.89</td>\n",
       "      <td>-0.32</td>\n",
       "    </tr>\n",
       "    <tr>\n",
       "      <th>2010-09-04</th>\n",
       "      <td>76.62</td>\n",
       "      <td>2010</td>\n",
       "      <td>9</td>\n",
       "      <td>4</td>\n",
       "      <td>3</td>\n",
       "      <td>247</td>\n",
       "      <td>35</td>\n",
       "      <td>5</td>\n",
       "      <td>0</td>\n",
       "      <td>0</td>\n",
       "      <td>0</td>\n",
       "      <td>76.57</td>\n",
       "      <td>0.05</td>\n",
       "    </tr>\n",
       "    <tr>\n",
       "      <th>2010-09-05</th>\n",
       "      <td>76.63</td>\n",
       "      <td>2010</td>\n",
       "      <td>9</td>\n",
       "      <td>5</td>\n",
       "      <td>3</td>\n",
       "      <td>248</td>\n",
       "      <td>35</td>\n",
       "      <td>6</td>\n",
       "      <td>0</td>\n",
       "      <td>1</td>\n",
       "      <td>0</td>\n",
       "      <td>76.62</td>\n",
       "      <td>0.01</td>\n",
       "    </tr>\n",
       "    <tr>\n",
       "      <th>2010-09-06</th>\n",
       "      <td>76.87</td>\n",
       "      <td>2010</td>\n",
       "      <td>9</td>\n",
       "      <td>6</td>\n",
       "      <td>3</td>\n",
       "      <td>249</td>\n",
       "      <td>36</td>\n",
       "      <td>0</td>\n",
       "      <td>1</td>\n",
       "      <td>0</td>\n",
       "      <td>0</td>\n",
       "      <td>76.63</td>\n",
       "      <td>0.24</td>\n",
       "    </tr>\n",
       "  </tbody>\n",
       "</table>\n",
       "</div>"
      ],
      "text/plain": [
       "            Значение  year  month  dayofmonth  quarter  dayofyear  weekofyear  \\\n",
       "Дата                                                                            \n",
       "2010-09-02     76.89  2010      9           2        3        245          35   \n",
       "2010-09-03     76.57  2010      9           3        3        246          35   \n",
       "2010-09-04     76.62  2010      9           4        3        247          35   \n",
       "2010-09-05     76.63  2010      9           5        3        248          35   \n",
       "2010-09-06     76.87  2010      9           6        3        249          36   \n",
       "\n",
       "            dayofweek  is_holiday  is_prev_holiday  is_next_holiday  1d_shift  \\\n",
       "Дата                                                                            \n",
       "2010-09-02          3           0                0                0     76.37   \n",
       "2010-09-03          4           0                0                0     76.89   \n",
       "2010-09-04          5           0                0                0     76.57   \n",
       "2010-09-05          6           0                1                0     76.62   \n",
       "2010-09-06          0           1                0                0     76.63   \n",
       "\n",
       "            1d_diff  \n",
       "Дата                 \n",
       "2010-09-02     0.52  \n",
       "2010-09-03    -0.32  \n",
       "2010-09-04     0.05  \n",
       "2010-09-05     0.01  \n",
       "2010-09-06     0.24  "
      ]
     },
     "execution_count": 75,
     "metadata": {},
     "output_type": "execute_result"
    }
   ],
   "source": [
    "df['1d_shift']=0\n",
    "df['1d_shift'] = df['Значение'].shift(1)\n",
    "df['1d_diff']=df['Значение']-df['1d_shift']\n",
    "# df['%dif']=df['1d_diff']/df['1d_shift']\n",
    "df = df.dropna()\n",
    "df.head()"
   ]
  },
  {
   "cell_type": "markdown",
   "metadata": {},
   "source": [
    "## Задание 2\n",
    "\n",
    "Добавьте первые разности по стоимости доллара и евро к рублю (можно добавить и сами курсы валют - прошлые значения)"
   ]
  },
  {
   "cell_type": "code",
   "execution_count": 76,
   "metadata": {},
   "outputs": [
    {
     "data": {
      "text/html": [
       "<div>\n",
       "<style scoped>\n",
       "    .dataframe tbody tr th:only-of-type {\n",
       "        vertical-align: middle;\n",
       "    }\n",
       "\n",
       "    .dataframe tbody tr th {\n",
       "        vertical-align: top;\n",
       "    }\n",
       "\n",
       "    .dataframe thead th {\n",
       "        text-align: right;\n",
       "    }\n",
       "</style>\n",
       "<table border=\"1\" class=\"dataframe\">\n",
       "  <thead>\n",
       "    <tr style=\"text-align: right;\">\n",
       "      <th></th>\n",
       "      <th>curs</th>\n",
       "      <th>1d_back</th>\n",
       "      <th>diff</th>\n",
       "      <th>u%dif</th>\n",
       "    </tr>\n",
       "    <tr>\n",
       "      <th>data</th>\n",
       "      <th></th>\n",
       "      <th></th>\n",
       "      <th></th>\n",
       "      <th></th>\n",
       "    </tr>\n",
       "  </thead>\n",
       "  <tbody>\n",
       "    <tr>\n",
       "      <th>2010-09-01</th>\n",
       "      <td>30.8669</td>\n",
       "      <td>NaN</td>\n",
       "      <td>NaN</td>\n",
       "      <td>NaN</td>\n",
       "    </tr>\n",
       "    <tr>\n",
       "      <th>2010-09-02</th>\n",
       "      <td>30.8001</td>\n",
       "      <td>30.8669</td>\n",
       "      <td>-0.0668</td>\n",
       "      <td>-0.216413</td>\n",
       "    </tr>\n",
       "    <tr>\n",
       "      <th>2010-09-03</th>\n",
       "      <td>30.6858</td>\n",
       "      <td>30.8001</td>\n",
       "      <td>-0.1143</td>\n",
       "      <td>-0.371103</td>\n",
       "    </tr>\n",
       "    <tr>\n",
       "      <th>2010-09-04</th>\n",
       "      <td>30.6922</td>\n",
       "      <td>30.6858</td>\n",
       "      <td>0.0064</td>\n",
       "      <td>0.020857</td>\n",
       "    </tr>\n",
       "    <tr>\n",
       "      <th>2010-09-07</th>\n",
       "      <td>30.5771</td>\n",
       "      <td>30.6922</td>\n",
       "      <td>-0.1151</td>\n",
       "      <td>-0.375014</td>\n",
       "    </tr>\n",
       "  </tbody>\n",
       "</table>\n",
       "</div>"
      ],
      "text/plain": [
       "               curs  1d_back    diff     u%dif\n",
       "data                                          \n",
       "2010-09-01  30.8669      NaN     NaN       NaN\n",
       "2010-09-02  30.8001  30.8669 -0.0668 -0.216413\n",
       "2010-09-03  30.6858  30.8001 -0.1143 -0.371103\n",
       "2010-09-04  30.6922  30.6858  0.0064  0.020857\n",
       "2010-09-07  30.5771  30.6922 -0.1151 -0.375014"
      ]
     },
     "execution_count": 76,
     "metadata": {},
     "output_type": "execute_result"
    }
   ],
   "source": [
    "usd = pd.read_csv('/Users/artem/Movies/ML_buisness_course/lection5/usd.csv', sep=';',index_col=[0], parse_dates=[0], dayfirst=True)\n",
    "usd['1d_back']=usd['curs'].shift(1)\n",
    "usd['diff']=usd['curs']-usd['1d_back']\n",
    "usd['u%dif']=usd['diff']/usd['1d_back']*100\n",
    "usd.head()"
   ]
  },
  {
   "cell_type": "code",
   "execution_count": 77,
   "metadata": {},
   "outputs": [
    {
     "data": {
      "text/html": [
       "<div>\n",
       "<style scoped>\n",
       "    .dataframe tbody tr th:only-of-type {\n",
       "        vertical-align: middle;\n",
       "    }\n",
       "\n",
       "    .dataframe tbody tr th {\n",
       "        vertical-align: top;\n",
       "    }\n",
       "\n",
       "    .dataframe thead th {\n",
       "        text-align: right;\n",
       "    }\n",
       "</style>\n",
       "<table border=\"1\" class=\"dataframe\">\n",
       "  <thead>\n",
       "    <tr style=\"text-align: right;\">\n",
       "      <th></th>\n",
       "      <th>curs</th>\n",
       "      <th>1d_back</th>\n",
       "      <th>diff</th>\n",
       "      <th>e%dif</th>\n",
       "    </tr>\n",
       "    <tr>\n",
       "      <th>data</th>\n",
       "      <th></th>\n",
       "      <th></th>\n",
       "      <th></th>\n",
       "      <th></th>\n",
       "    </tr>\n",
       "  </thead>\n",
       "  <tbody>\n",
       "    <tr>\n",
       "      <th>2010-09-01</th>\n",
       "      <td>39.0127</td>\n",
       "      <td>NaN</td>\n",
       "      <td>NaN</td>\n",
       "      <td>NaN</td>\n",
       "    </tr>\n",
       "    <tr>\n",
       "      <th>2010-09-02</th>\n",
       "      <td>39.1654</td>\n",
       "      <td>39.0127</td>\n",
       "      <td>0.1527</td>\n",
       "      <td>0.391411</td>\n",
       "    </tr>\n",
       "    <tr>\n",
       "      <th>2010-09-03</th>\n",
       "      <td>39.2901</td>\n",
       "      <td>39.1654</td>\n",
       "      <td>0.1247</td>\n",
       "      <td>0.318393</td>\n",
       "    </tr>\n",
       "    <tr>\n",
       "      <th>2010-09-04</th>\n",
       "      <td>39.3505</td>\n",
       "      <td>39.2901</td>\n",
       "      <td>0.0604</td>\n",
       "      <td>0.153728</td>\n",
       "    </tr>\n",
       "    <tr>\n",
       "      <th>2010-09-07</th>\n",
       "      <td>39.4720</td>\n",
       "      <td>39.3505</td>\n",
       "      <td>0.1215</td>\n",
       "      <td>0.308764</td>\n",
       "    </tr>\n",
       "  </tbody>\n",
       "</table>\n",
       "</div>"
      ],
      "text/plain": [
       "               curs  1d_back    diff     e%dif\n",
       "data                                          \n",
       "2010-09-01  39.0127      NaN     NaN       NaN\n",
       "2010-09-02  39.1654  39.0127  0.1527  0.391411\n",
       "2010-09-03  39.2901  39.1654  0.1247  0.318393\n",
       "2010-09-04  39.3505  39.2901  0.0604  0.153728\n",
       "2010-09-07  39.4720  39.3505  0.1215  0.308764"
      ]
     },
     "execution_count": 77,
     "metadata": {},
     "output_type": "execute_result"
    }
   ],
   "source": [
    "eur = pd.read_csv('/Users/artem/Movies/ML_buisness_course/lection5/eu.csv', sep=';',index_col=[0], parse_dates=[0], dayfirst=True)\n",
    "eur['1d_back']=eur['curs'].shift(1)\n",
    "eur['diff']=eur['curs']-eur['1d_back']\n",
    "eur['e%dif']=eur['diff']/eur['1d_back']*100\n",
    "eur.head()"
   ]
  },
  {
   "cell_type": "markdown",
   "metadata": {},
   "source": [
    "Теперь произведём подстановку столбцов %dif в основную таблицу:"
   ]
  },
  {
   "cell_type": "code",
   "execution_count": 78,
   "metadata": {},
   "outputs": [],
   "source": [
    "df = df.merge(usd['u%dif'], left_index=True, right_index=True, how='left')\n",
    "df = df.merge(eur['e%dif'], left_index=True, right_index=True, how='left')"
   ]
  },
  {
   "cell_type": "markdown",
   "metadata": {},
   "source": [
    "У нас появилось много NaN значений, они появились из-за того, что у нас есть цены по нефти для выходных (субботы и воскресенья), в то время как курсы долларов в эти дни не обновлялись:"
   ]
  },
  {
   "cell_type": "code",
   "execution_count": 108,
   "metadata": {},
   "outputs": [
    {
     "data": {
      "text/html": [
       "<div>\n",
       "<style scoped>\n",
       "    .dataframe tbody tr th:only-of-type {\n",
       "        vertical-align: middle;\n",
       "    }\n",
       "\n",
       "    .dataframe tbody tr th {\n",
       "        vertical-align: top;\n",
       "    }\n",
       "\n",
       "    .dataframe thead th {\n",
       "        text-align: right;\n",
       "    }\n",
       "</style>\n",
       "<table border=\"1\" class=\"dataframe\">\n",
       "  <thead>\n",
       "    <tr style=\"text-align: right;\">\n",
       "      <th></th>\n",
       "      <th>Значение</th>\n",
       "      <th>year</th>\n",
       "      <th>month</th>\n",
       "      <th>dayofmonth</th>\n",
       "      <th>quarter</th>\n",
       "      <th>dayofyear</th>\n",
       "      <th>weekofyear</th>\n",
       "      <th>dayofweek</th>\n",
       "      <th>is_holiday</th>\n",
       "      <th>is_prev_holiday</th>\n",
       "      <th>is_next_holiday</th>\n",
       "      <th>1d_shift</th>\n",
       "      <th>1d_diff</th>\n",
       "      <th>u%dif</th>\n",
       "      <th>e%dif</th>\n",
       "    </tr>\n",
       "    <tr>\n",
       "      <th>Дата</th>\n",
       "      <th></th>\n",
       "      <th></th>\n",
       "      <th></th>\n",
       "      <th></th>\n",
       "      <th></th>\n",
       "      <th></th>\n",
       "      <th></th>\n",
       "      <th></th>\n",
       "      <th></th>\n",
       "      <th></th>\n",
       "      <th></th>\n",
       "      <th></th>\n",
       "      <th></th>\n",
       "      <th></th>\n",
       "      <th></th>\n",
       "    </tr>\n",
       "  </thead>\n",
       "  <tbody>\n",
       "    <tr>\n",
       "      <th>2010-09-05</th>\n",
       "      <td>76.63</td>\n",
       "      <td>2010</td>\n",
       "      <td>9</td>\n",
       "      <td>5</td>\n",
       "      <td>3</td>\n",
       "      <td>248</td>\n",
       "      <td>35</td>\n",
       "      <td>6</td>\n",
       "      <td>0</td>\n",
       "      <td>1</td>\n",
       "      <td>0</td>\n",
       "      <td>76.62</td>\n",
       "      <td>0.01</td>\n",
       "      <td>NaN</td>\n",
       "      <td>NaN</td>\n",
       "    </tr>\n",
       "    <tr>\n",
       "      <th>2010-09-06</th>\n",
       "      <td>76.87</td>\n",
       "      <td>2010</td>\n",
       "      <td>9</td>\n",
       "      <td>6</td>\n",
       "      <td>3</td>\n",
       "      <td>249</td>\n",
       "      <td>36</td>\n",
       "      <td>0</td>\n",
       "      <td>1</td>\n",
       "      <td>0</td>\n",
       "      <td>0</td>\n",
       "      <td>76.63</td>\n",
       "      <td>0.24</td>\n",
       "      <td>NaN</td>\n",
       "      <td>NaN</td>\n",
       "    </tr>\n",
       "    <tr>\n",
       "      <th>2010-09-13</th>\n",
       "      <td>79.19</td>\n",
       "      <td>2010</td>\n",
       "      <td>9</td>\n",
       "      <td>13</td>\n",
       "      <td>3</td>\n",
       "      <td>256</td>\n",
       "      <td>37</td>\n",
       "      <td>0</td>\n",
       "      <td>0</td>\n",
       "      <td>0</td>\n",
       "      <td>0</td>\n",
       "      <td>78.36</td>\n",
       "      <td>0.83</td>\n",
       "      <td>NaN</td>\n",
       "      <td>NaN</td>\n",
       "    </tr>\n",
       "    <tr>\n",
       "      <th>2010-09-19</th>\n",
       "      <td>78.23</td>\n",
       "      <td>2010</td>\n",
       "      <td>9</td>\n",
       "      <td>19</td>\n",
       "      <td>3</td>\n",
       "      <td>262</td>\n",
       "      <td>37</td>\n",
       "      <td>6</td>\n",
       "      <td>0</td>\n",
       "      <td>0</td>\n",
       "      <td>0</td>\n",
       "      <td>77.97</td>\n",
       "      <td>0.26</td>\n",
       "      <td>NaN</td>\n",
       "      <td>NaN</td>\n",
       "    </tr>\n",
       "    <tr>\n",
       "      <th>2010-09-20</th>\n",
       "      <td>79.36</td>\n",
       "      <td>2010</td>\n",
       "      <td>9</td>\n",
       "      <td>20</td>\n",
       "      <td>3</td>\n",
       "      <td>263</td>\n",
       "      <td>38</td>\n",
       "      <td>0</td>\n",
       "      <td>0</td>\n",
       "      <td>0</td>\n",
       "      <td>0</td>\n",
       "      <td>78.23</td>\n",
       "      <td>1.13</td>\n",
       "      <td>NaN</td>\n",
       "      <td>NaN</td>\n",
       "    </tr>\n",
       "    <tr>\n",
       "      <th>2010-09-26</th>\n",
       "      <td>78.94</td>\n",
       "      <td>2010</td>\n",
       "      <td>9</td>\n",
       "      <td>26</td>\n",
       "      <td>3</td>\n",
       "      <td>269</td>\n",
       "      <td>38</td>\n",
       "      <td>6</td>\n",
       "      <td>0</td>\n",
       "      <td>0</td>\n",
       "      <td>0</td>\n",
       "      <td>78.80</td>\n",
       "      <td>0.14</td>\n",
       "      <td>NaN</td>\n",
       "      <td>NaN</td>\n",
       "    </tr>\n",
       "  </tbody>\n",
       "</table>\n",
       "</div>"
      ],
      "text/plain": [
       "            Значение  year  month  dayofmonth  quarter  dayofyear  weekofyear  \\\n",
       "Дата                                                                            \n",
       "2010-09-05     76.63  2010      9           5        3        248          35   \n",
       "2010-09-06     76.87  2010      9           6        3        249          36   \n",
       "2010-09-13     79.19  2010      9          13        3        256          37   \n",
       "2010-09-19     78.23  2010      9          19        3        262          37   \n",
       "2010-09-20     79.36  2010      9          20        3        263          38   \n",
       "2010-09-26     78.94  2010      9          26        3        269          38   \n",
       "\n",
       "            dayofweek  is_holiday  is_prev_holiday  is_next_holiday  1d_shift  \\\n",
       "Дата                                                                            \n",
       "2010-09-05          6           0                1                0     76.62   \n",
       "2010-09-06          0           1                0                0     76.63   \n",
       "2010-09-13          0           0                0                0     78.36   \n",
       "2010-09-19          6           0                0                0     77.97   \n",
       "2010-09-20          0           0                0                0     78.23   \n",
       "2010-09-26          6           0                0                0     78.80   \n",
       "\n",
       "            1d_diff  u%dif  e%dif  \n",
       "Дата                               \n",
       "2010-09-05     0.01    NaN    NaN  \n",
       "2010-09-06     0.24    NaN    NaN  \n",
       "2010-09-13     0.83    NaN    NaN  \n",
       "2010-09-19     0.26    NaN    NaN  \n",
       "2010-09-20     1.13    NaN    NaN  \n",
       "2010-09-26     0.14    NaN    NaN  "
      ]
     },
     "execution_count": 108,
     "metadata": {},
     "output_type": "execute_result"
    }
   ],
   "source": [
    "df.loc[(df['dayofweek']==6) | (df['dayofweek']==0)][:6]"
   ]
  },
  {
   "cell_type": "markdown",
   "metadata": {},
   "source": [
    "Заполним пропуски нулями, чтобы сохранить расширенный датасет. Если бы мы взяли только дни, на которые есть котировка курсов доллара или евро, то всего строк было бы 1700, а в полном 2600. Конечно, котирование нефти в выходные под вопросом, на официальных биржах торги в выходные не ведутся, но оставим пока так. Итак, изменения по валютам сделаем ноль для выходных, и это будет правда"
   ]
  },
  {
   "cell_type": "code",
   "execution_count": 118,
   "metadata": {},
   "outputs": [],
   "source": [
    "df = df.fillna(0)"
   ]
  },
  {
   "cell_type": "markdown",
   "metadata": {},
   "source": [
    "Создадим также столбец с разницей ко вчерашнему дню (предыдущему значению таргета) в процентах:"
   ]
  },
  {
   "cell_type": "code",
   "execution_count": 116,
   "metadata": {},
   "outputs": [],
   "source": [
    "df['%dif']=df['1d_diff']/df['1d_shift']*100\n",
    "df = df.drop(['1d_diff'], axis=1)"
   ]
  },
  {
   "cell_type": "code",
   "execution_count": 120,
   "metadata": {},
   "outputs": [
    {
     "data": {
      "text/html": [
       "<div>\n",
       "<style scoped>\n",
       "    .dataframe tbody tr th:only-of-type {\n",
       "        vertical-align: middle;\n",
       "    }\n",
       "\n",
       "    .dataframe tbody tr th {\n",
       "        vertical-align: top;\n",
       "    }\n",
       "\n",
       "    .dataframe thead th {\n",
       "        text-align: right;\n",
       "    }\n",
       "</style>\n",
       "<table border=\"1\" class=\"dataframe\">\n",
       "  <thead>\n",
       "    <tr style=\"text-align: right;\">\n",
       "      <th></th>\n",
       "      <th>Значение</th>\n",
       "      <th>year</th>\n",
       "      <th>month</th>\n",
       "      <th>dayofmonth</th>\n",
       "      <th>quarter</th>\n",
       "      <th>dayofyear</th>\n",
       "      <th>weekofyear</th>\n",
       "      <th>dayofweek</th>\n",
       "      <th>is_holiday</th>\n",
       "      <th>is_prev_holiday</th>\n",
       "      <th>is_next_holiday</th>\n",
       "      <th>1d_shift</th>\n",
       "      <th>u%dif</th>\n",
       "      <th>e%dif</th>\n",
       "      <th>%dif</th>\n",
       "    </tr>\n",
       "    <tr>\n",
       "      <th>Дата</th>\n",
       "      <th></th>\n",
       "      <th></th>\n",
       "      <th></th>\n",
       "      <th></th>\n",
       "      <th></th>\n",
       "      <th></th>\n",
       "      <th></th>\n",
       "      <th></th>\n",
       "      <th></th>\n",
       "      <th></th>\n",
       "      <th></th>\n",
       "      <th></th>\n",
       "      <th></th>\n",
       "      <th></th>\n",
       "      <th></th>\n",
       "    </tr>\n",
       "  </thead>\n",
       "  <tbody>\n",
       "    <tr>\n",
       "      <th>2010-09-02</th>\n",
       "      <td>76.89</td>\n",
       "      <td>2010</td>\n",
       "      <td>9</td>\n",
       "      <td>2</td>\n",
       "      <td>3</td>\n",
       "      <td>245</td>\n",
       "      <td>35</td>\n",
       "      <td>3</td>\n",
       "      <td>0</td>\n",
       "      <td>0</td>\n",
       "      <td>0</td>\n",
       "      <td>76.37</td>\n",
       "      <td>-0.216413</td>\n",
       "      <td>0.391411</td>\n",
       "      <td>0.680896</td>\n",
       "    </tr>\n",
       "    <tr>\n",
       "      <th>2010-09-03</th>\n",
       "      <td>76.57</td>\n",
       "      <td>2010</td>\n",
       "      <td>9</td>\n",
       "      <td>3</td>\n",
       "      <td>3</td>\n",
       "      <td>246</td>\n",
       "      <td>35</td>\n",
       "      <td>4</td>\n",
       "      <td>0</td>\n",
       "      <td>0</td>\n",
       "      <td>0</td>\n",
       "      <td>76.89</td>\n",
       "      <td>-0.371103</td>\n",
       "      <td>0.318393</td>\n",
       "      <td>-0.416179</td>\n",
       "    </tr>\n",
       "    <tr>\n",
       "      <th>2010-09-04</th>\n",
       "      <td>76.62</td>\n",
       "      <td>2010</td>\n",
       "      <td>9</td>\n",
       "      <td>4</td>\n",
       "      <td>3</td>\n",
       "      <td>247</td>\n",
       "      <td>35</td>\n",
       "      <td>5</td>\n",
       "      <td>0</td>\n",
       "      <td>0</td>\n",
       "      <td>0</td>\n",
       "      <td>76.57</td>\n",
       "      <td>0.020857</td>\n",
       "      <td>0.153728</td>\n",
       "      <td>0.065300</td>\n",
       "    </tr>\n",
       "    <tr>\n",
       "      <th>2010-09-05</th>\n",
       "      <td>76.63</td>\n",
       "      <td>2010</td>\n",
       "      <td>9</td>\n",
       "      <td>5</td>\n",
       "      <td>3</td>\n",
       "      <td>248</td>\n",
       "      <td>35</td>\n",
       "      <td>6</td>\n",
       "      <td>0</td>\n",
       "      <td>1</td>\n",
       "      <td>0</td>\n",
       "      <td>76.62</td>\n",
       "      <td>0.000000</td>\n",
       "      <td>0.000000</td>\n",
       "      <td>0.013051</td>\n",
       "    </tr>\n",
       "    <tr>\n",
       "      <th>2010-09-06</th>\n",
       "      <td>76.87</td>\n",
       "      <td>2010</td>\n",
       "      <td>9</td>\n",
       "      <td>6</td>\n",
       "      <td>3</td>\n",
       "      <td>249</td>\n",
       "      <td>36</td>\n",
       "      <td>0</td>\n",
       "      <td>1</td>\n",
       "      <td>0</td>\n",
       "      <td>0</td>\n",
       "      <td>76.63</td>\n",
       "      <td>0.000000</td>\n",
       "      <td>0.000000</td>\n",
       "      <td>0.313193</td>\n",
       "    </tr>\n",
       "  </tbody>\n",
       "</table>\n",
       "</div>"
      ],
      "text/plain": [
       "            Значение  year  month  dayofmonth  quarter  dayofyear  weekofyear  \\\n",
       "Дата                                                                            \n",
       "2010-09-02     76.89  2010      9           2        3        245          35   \n",
       "2010-09-03     76.57  2010      9           3        3        246          35   \n",
       "2010-09-04     76.62  2010      9           4        3        247          35   \n",
       "2010-09-05     76.63  2010      9           5        3        248          35   \n",
       "2010-09-06     76.87  2010      9           6        3        249          36   \n",
       "\n",
       "            dayofweek  is_holiday  is_prev_holiday  is_next_holiday  1d_shift  \\\n",
       "Дата                                                                            \n",
       "2010-09-02          3           0                0                0     76.37   \n",
       "2010-09-03          4           0                0                0     76.89   \n",
       "2010-09-04          5           0                0                0     76.57   \n",
       "2010-09-05          6           0                1                0     76.62   \n",
       "2010-09-06          0           1                0                0     76.63   \n",
       "\n",
       "               u%dif     e%dif      %dif  \n",
       "Дата                                      \n",
       "2010-09-02 -0.216413  0.391411  0.680896  \n",
       "2010-09-03 -0.371103  0.318393 -0.416179  \n",
       "2010-09-04  0.020857  0.153728  0.065300  \n",
       "2010-09-05  0.000000  0.000000  0.013051  \n",
       "2010-09-06  0.000000  0.000000  0.313193  "
      ]
     },
     "execution_count": 120,
     "metadata": {},
     "output_type": "execute_result"
    }
   ],
   "source": [
    "df.head()"
   ]
  },
  {
   "cell_type": "markdown",
   "metadata": {},
   "source": [
    "## Задание 3\n",
    "\n",
    "сделайте ее перрасчет (ресемплинг) в представление по неделям."
   ]
  },
  {
   "cell_type": "code",
   "execution_count": 123,
   "metadata": {},
   "outputs": [],
   "source": [
    "df_week = df.copy()\n",
    "df_week = df_week.resample(\"W\").mean()"
   ]
  },
  {
   "cell_type": "code",
   "execution_count": 130,
   "metadata": {},
   "outputs": [],
   "source": [
    "df_week = df_week.dropna()"
   ]
  },
  {
   "cell_type": "markdown",
   "metadata": {},
   "source": [
    "## Задание 4\n",
    "\n",
    "Постройте модель предсказания 1-й точки от текущей (h=1)."
   ]
  },
  {
   "cell_type": "markdown",
   "metadata": {},
   "source": [
    "### \"Прямое\" предсказание"
   ]
  },
  {
   "cell_type": "code",
   "execution_count": 135,
   "metadata": {},
   "outputs": [],
   "source": [
    "def mean_absolute_percentage_error(y_true, y_pred): \n",
    "    y_true, y_pred = np.array(y_true), np.array(y_pred)\n",
    "    return np.mean(np.abs((y_true - y_pred) / y_true)) * 100"
   ]
  },
  {
   "cell_type": "code",
   "execution_count": 136,
   "metadata": {},
   "outputs": [],
   "source": [
    "def split_data_b(data, split_date, column_name):\n",
    "    return data.loc[data.index.get_level_values(column_name) <= split_date].copy(), \\\n",
    "           data.loc[data.index.get_level_values(column_name) >  split_date].copy()"
   ]
  },
  {
   "cell_type": "code",
   "execution_count": 167,
   "metadata": {},
   "outputs": [],
   "source": [
    "from sklearn.ensemble import GradientBoostingRegressor\n",
    "from sklearn.preprocessing import StandardScaler\n",
    "from sklearn.metrics import mean_absolute_error, mean_squared_error, median_absolute_error, r2_score\n",
    "\n",
    "scl =StandardScaler()\n",
    "scly =StandardScaler()"
   ]
  },
  {
   "cell_type": "code",
   "execution_count": 168,
   "metadata": {},
   "outputs": [
    {
     "data": {
      "image/png": "[encoded data removed]",
      "text/plain": [
       "<Figure size 1080x504 with 1 Axes>"
      ]
     },
     "metadata": {
      "needs_background": "light"
     },
     "output_type": "display_data"
    }
   ],
   "source": [
    "train, test = split_data_b(df_week, '01-10-2016', 'Дата')\n",
    "\n",
    "plt.figure( figsize=( 15, 7 ))\n",
    "plt.xlabel('Время')\n",
    "plt.ylabel('Цена нефти')\n",
    "plt.plot(train.index.get_level_values('Дата'),train['Значение'], label='train data' )\n",
    "plt.plot(test.index.get_level_values('Дата'),test['Значение'], label='test data')\n",
    "plt.title( 'Тестовые и тренировочные данные' )\n",
    "plt.legend()\n",
    "plt.show()"
   ]
  },
  {
   "cell_type": "code",
   "execution_count": 169,
   "metadata": {},
   "outputs": [],
   "source": [
    "train_b, test_b = split_data_b(df_week, '10-10-2016', 'Дата')"
   ]
  },
  {
   "cell_type": "code",
   "execution_count": 175,
   "metadata": {},
   "outputs": [
    {
     "name": "stdout",
     "output_type": "stream",
     "text": [
      "CPU times: user 216 ms, sys: 3.93 ms, total: 219 ms\n",
      "Wall time: 222 ms\n"
     ]
    }
   ],
   "source": [
    "%%time\n",
    "h=1\n",
    "X_train_b = train_b.iloc[:-h,:]\n",
    "y_train_b = train_b[df_week.columns[0]].values[h:]\n",
    "X_test_b = test_b.iloc[:-h,:]\n",
    "y_test_b = test_b[df_week.columns[0]].values[h:]\n",
    "\n",
    "model_gb = GradientBoostingRegressor(max_depth=15, random_state=0, n_estimators=100)\n",
    "model_gb.fit( X_train_b, y_train_b ) \n",
    "X_test_pred_gb = model_gb.predict(X_test_b)\n",
    "#y_test_pred_gb = model_gb.predict(y_test_b)\n",
    "y_test_pred_g = model_gb.predict(X_test_b)"
   ]
  },
  {
   "cell_type": "code",
   "execution_count": 176,
   "metadata": {},
   "outputs": [
    {
     "data": {
      "image/png": "[encoded data removed]",
      "text/plain": [
       "<Figure size 1440x288 with 1 Axes>"
      ]
     },
     "metadata": {
      "needs_background": "light"
     },
     "output_type": "display_data"
    }
   ],
   "source": [
    "plt.figure( figsize=( 20, 4 ))\n",
    "\n",
    "plt.xlabel('Время')\n",
    "plt.ylabel('цена на нефть')\n",
    "plt.plot(test_b.index[h:],X_test_pred_gb, label='predict GB data +1 periods' )\n",
    "plt.plot(test_b.index[h:],y_test_b, label='test data')\n",
    "#plt.plot(test_b.index, test_b.iloc[:,0], label='исходный ряд')\n",
    "\n",
    "plt.legend()\n",
    "plt.show()"
   ]
  },
  {
   "cell_type": "code",
   "execution_count": 189,
   "metadata": {},
   "outputs": [
    {
     "name": "stdout",
     "output_type": "stream",
     "text": [
      "ошибка mse :   10.745596628819623 \n",
      "ошибка mae  :   2.58347877474483 \n",
      "оценка R2 :   0.8791009678111089 \n",
      "mape: 4.099305681408423\n"
     ]
    }
   ],
   "source": [
    "er_mape = mean_absolute_percentage_error(y_true=y_test_b, y_pred=X_test_pred_gb)\n",
    "er_s = mean_squared_error(y_true=y_test_b, y_pred=y_test_pred_g) \n",
    "er_a = mean_absolute_error(y_true=y_test_b, y_pred=y_test_pred_g) \n",
    "er_r2 = r2_score(y_true=y_test_b, y_pred=y_test_pred_g)\n",
    "\n",
    "print('ошибка mse :  ', er_s,'\\nошибка mae  :  ', er_a,'\\nоценка R2 :  ', er_r2, f'\\nmape: {er_mape}')"
   ]
  },
  {
   "cell_type": "markdown",
   "metadata": {},
   "source": [
    "### Рекурсивное предсказание"
   ]
  },
  {
   "cell_type": "code",
   "execution_count": 203,
   "metadata": {},
   "outputs": [],
   "source": [
    "X_test = X_test_b.iloc[1:].values"
   ]
  },
  {
   "cell_type": "code",
   "execution_count": 228,
   "metadata": {},
   "outputs": [],
   "source": [
    "X_test_100 = X_test.copy()\n",
    "y_test_100 = y_test_pred_g.copy()\n",
    "ahead = len(y_test_b)-2\n",
    "for i in range(ahead):\n",
    "    y_test_100[i] = model_gb.predict(X_test_100[i,:].reshape((1,15)))\n",
    "    \n",
    "    # заполняем вектор для прогноза следующей точки\n",
    "    X_test_100[i+1,0] = y_test_100[i]\n",
    "#     X_test_100[i+1,1] = 0#y _test_100[i]\n",
    "#     X_test_100[i+1,2] = 0#y_test_100[i]\n",
    "#     X_test_100[i+1,3] = 0#y_test_100[i]\n",
    "#     X_test_100[i+1,4] = 0#y_test_100[i]"
   ]
  },
  {
   "cell_type": "code",
   "execution_count": 242,
   "metadata": {},
   "outputs": [
    {
     "data": {
      "image/png": "[encoded data removed]",
      "text/plain": [
       "<Figure size 1080x504 with 1 Axes>"
      ]
     },
     "metadata": {
      "needs_background": "light"
     },
     "output_type": "display_data"
    }
   ],
   "source": [
    "plt.figure( figsize=( 15, 7 ))\n",
    "\n",
    "\n",
    "plt.xlabel('Время')\n",
    "plt.ylabel('Цена')\n",
    "plt.plot(y_test_b, 'r',label='fact data' )\n",
    "plt.plot(y_test_100, 'g',label='slide predict data')\n",
    "\n",
    "\n",
    "plt.legend()\n",
    "plt.show()  "
   ]
  },
  {
   "cell_type": "code",
   "execution_count": 243,
   "metadata": {},
   "outputs": [
    {
     "name": "stdout",
     "output_type": "stream",
     "text": [
      "ошибка mse :   152.6547072852423 \n",
      "ошибка mae  :   8.64338254662866 \n",
      "оценка R2 :   -0.7175227218529583 \n",
      "mape: 13.66948367801711\n"
     ]
    }
   ],
   "source": [
    "er_mape = mean_absolute_percentage_error(y_true=y_test_b, y_pred=y_test_100)\n",
    "er_s = mean_squared_error(y_true=y_test_b, y_pred=y_test_100) \n",
    "er_a = mean_absolute_error(y_true=y_test_b, y_pred=y_test_100) \n",
    "er_r2 = r2_score(y_true=y_test_b, y_pred=y_test_100)\n",
    "\n",
    "print('ошибка mse :  ', er_s,'\\nошибка mae  :  ', er_a,'\\nоценка R2 :  ', er_r2, f'\\nmape: {er_mape}')"
   ]
  },
  {
   "cell_type": "markdown",
   "metadata": {},
   "source": [
    "## Задание 5\n",
    "\n",
    "Сделайте вывод о поведении ошибки предсказания ряда в сравнении с прямым прогнозированием."
   ]
  },
  {
   "cell_type": "markdown",
   "metadata": {},
   "source": [
    "Ошибка предсказания ряда при рекурсивном предсказывании увеличилась. Даже настолько, что, вероятно, предсказание константой или линией будет эффективнее (R2 ниже нуля!)"
   ]
  },
  {
   "cell_type": "code",
   "execution_count": null,
   "metadata": {},
   "outputs": [],
   "source": []
  }
 ],
 "metadata": {
  "kernelspec": {
   "display_name": "Python 3",
   "language": "python",
   "name": "python3"
  },
  "language_info": {
   "codemirror_mode": {
    "name": "ipython",
    "version": 3
   },
   "file_extension": ".py",
   "mimetype": "text/x-python",
   "name": "python",
   "nbconvert_exporter": "python",
   "pygments_lexer": "ipython3",
   "version": "3.7.4"
  }
 },
 "nbformat": 4,
 "nbformat_minor": 2
}
